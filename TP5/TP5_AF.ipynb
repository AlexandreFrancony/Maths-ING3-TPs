{
 "cells": [
  {
   "cell_type": "markdown",
   "metadata": {},
   "source": [
    "# TP5\n",
    "## Alexandre Francony"
   ]
  },
  {
   "cell_type": "markdown",
   "metadata": {},
   "source": [
    "### Algorithme :\n",
    "Données : les points a et b, l’entier N et la condition initiale α.<br>\n",
    "Sorties : les approximations wi de la solution y au point ti = ti−1 + h.<br>\n",
    "#### Etape 1 :\n",
    "Initialisation : h = (b−a)/N ; t(1) = a; w(1) = α;<br>\n",
    "et t(2) et w(2) sont obtenus par la Méthode de Runge-Kutta 4.<br>\n",
    "#### Etape 2 :\n",
    "Calcul des approximations :<br>\n",
    "Pour i = 2 à N, faire :<br>\n",
    "f0 = f (t(i),w(i))<br>\n",
    "f1 = f (t(i −1),w(i −1))<br>\n",
    "w(i + 1) = w(i) + h/2 (3f0 −f1)<br>\n",
    "t(i + 1) = t(i) + h<br>\n",
    "#### Etape 3 :\n",
    "Impression des résultats:<br>\n",
    "Tracer la solution excate et la solution approch ́ee en fonction du temps sur un mˆeme graphique.<br>\n",
    "Tracer l’erreur en fonction du temps sur un autre graphique.<br>\n",
    "\n",
    "### Applications\n",
    "Soit le problème a valeurs initiales suivant :\n",
    "\n",
    "y′ = 1 + y/t ; t ∈[1,2]<br>\n",
    "y(1) = 2\n",
    "\n",
    "1) Calculer la solution exacte du problème."
   ]
  },
  {
   "cell_type": "markdown",
   "metadata": {},
   "source": [
    "Ici, je vais utiliser la bibliothèque sympy pour calculer la solution exacte du problème étant donné qu'elle simplifie grandement ce genre d'opération."
   ]
  },
  {
   "cell_type": "code",
   "execution_count": 8,
   "metadata": {},
   "outputs": [
    {
     "data": {
      "text/latex": [
       "$\\displaystyle y{\\left(t \\right)} = t \\left(C_{1} + \\log{\\left(t \\right)} - 2\\right)$"
      ],
      "text/plain": [
       "Eq(y(t), t*(C1 + log(t) - 2))"
      ]
     },
     "execution_count": 8,
     "metadata": {},
     "output_type": "execute_result"
    }
   ],
   "source": [
    "import sympy as sp\n",
    "\n",
    "t = sp.symbols('t')\n",
    "y = sp.Function('y')\n",
    "\n",
    "equa_diff = sp.Eq(y(t).diff(t), 1 + y(t)/t)\n",
    "\n",
    "sol = sp.dsolve(equa_diff, y(t))\n",
    "\n",
    "sol = sol.subs('C1', sol.rhs.subs(t, 1) - 2)\n",
    "\n",
    "sol"
   ]
  },
  {
   "cell_type": "markdown",
   "metadata": {},
   "source": [
    "2) Appliquer la M ́ethode d’Adams-Bashforth avec N = 10."
   ]
  },
  {
   "cell_type": "markdown",
   "metadata": {},
   "source": [
    "Ici, je déclare la fonction d'Adams-Bashforth, qui prend en paramètre la fonction f, les bornes a et b, le nombre de points N et la condition initiale alpha:"
   ]
  },
  {
   "cell_type": "code",
   "execution_count": 9,
   "metadata": {},
   "outputs": [],
   "source": [
    "import numpy as np\n",
    "\n",
    "def runge_kutta_4(f, t, w, h):\n",
    "    k1 = h * f(t, w)\n",
    "    k2 = h * f(t + h / 2, w + k1 / 2)\n",
    "    k3 = h * f(t + h / 2, w + k2 / 2)\n",
    "    k4 = h * f(t + h, w + k3)\n",
    "    return w + (k1 + 2 * k2 + 2 * k3 + k4) / 6\n",
    "\n",
    "def adams_bashforth(f, a, b, N, alpha):\n",
    "    h = (b - a) / N\n",
    "    t = np.linspace(a, b, N + 1)\n",
    "    w = np.zeros(N + 1)\n",
    "    w[0] = alpha\n",
    "    w[1] = runge_kutta_4(f, a, alpha, h)\n",
    "    for i in range(1, N):\n",
    "        f0 = f(t[i], w[i])\n",
    "        f1 = f(t[i - 1], w[i - 1])\n",
    "        w[i + 1] = w[i] + h / 2 * (3 * f0 - f1)\n",
    "    return t, w"
   ]
  },
  {
   "cell_type": "code",
   "execution_count": 10,
   "metadata": {},
   "outputs": [
    {
     "ename": "NameError",
     "evalue": "name 'f' is not defined",
     "output_type": "error",
     "traceback": [
      "\u001b[1;31m---------------------------------------------------------------------------\u001b[0m",
      "\u001b[1;31mNameError\u001b[0m                                 Traceback (most recent call last)",
      "Cell \u001b[1;32mIn[10], line 6\u001b[0m\n\u001b[0;32m      3\u001b[0m N \u001b[38;5;241m=\u001b[39m \u001b[38;5;241m10\u001b[39m\n\u001b[0;32m      5\u001b[0m \u001b[38;5;66;03m# Apply the Adams-Bashforth method\u001b[39;00m\n\u001b[1;32m----> 6\u001b[0m t, w \u001b[38;5;241m=\u001b[39m adams_bashforth(\u001b[43mf\u001b[49m, a, b, N, alpha)\n\u001b[0;32m      8\u001b[0m \u001b[38;5;66;03m# Print the approximations\u001b[39;00m\n\u001b[0;32m      9\u001b[0m \u001b[38;5;28;01mfor\u001b[39;00m i \u001b[38;5;129;01min\u001b[39;00m \u001b[38;5;28mrange\u001b[39m(N \u001b[38;5;241m+\u001b[39m \u001b[38;5;241m1\u001b[39m):\n",
      "\u001b[1;31mNameError\u001b[0m: name 'f' is not defined"
     ]
    }
   ],
   "source": [
    "# Parameters\n",
    "a, b, alpha = 1, 2, 2\n",
    "N = 10\n",
    "\n",
    "# Apply the Adams-Bashforth method\n",
    "t, w = adams_bashforth(f, a, b, N, alpha)\n",
    "\n",
    "# Print the approximations\n",
    "for i in range(N + 1):\n",
    "    print(f't{i} = {t[i]}, w{i} = {w[i]}')"
   ]
  }
 ],
 "metadata": {
  "kernelspec": {
   "display_name": "Python 3",
   "language": "python",
   "name": "python3"
  },
  "language_info": {
   "codemirror_mode": {
    "name": "ipython",
    "version": 3
   },
   "file_extension": ".py",
   "mimetype": "text/x-python",
   "name": "python",
   "nbconvert_exporter": "python",
   "pygments_lexer": "ipython3",
   "version": "3.12.0"
  }
 },
 "nbformat": 4,
 "nbformat_minor": 2
}
